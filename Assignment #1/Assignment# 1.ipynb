{
 "cells": [
  {
   "cell_type": "code",
   "execution_count": 13,
   "id": "148c5e02",
   "metadata": {},
   "outputs": [
    {
     "name": "stdout",
     "output_type": "stream",
     "text": [
      "Twinkle, twinkle, little star,\n",
      "   How I wonder what you are!\n",
      "      Up above the world so high,\n",
      "      Like a diamond in the sky.\n",
      "Twinkle, twinkle, little star,\n",
      "   How I wonder what you are!\n"
     ]
    }
   ],
   "source": [
    "print (\"Twinkle, twinkle, little star,\\n   How I wonder what you are!\\n      Up above the world so high,\\n      Like a diamond in the sky.\\nTwinkle, twinkle, little star,\\n   How I wonder what you are!\")"
   ]
  },
  {
   "cell_type": "code",
   "execution_count": 27,
   "id": "c3492e8e",
   "metadata": {},
   "outputs": [
    {
     "name": "stdout",
     "output_type": "stream",
     "text": [
      "3.9.7 (default, Sep 16 2021, 16:59:28) [MSC v.1916 64 bit (AMD64)]\n"
     ]
    }
   ],
   "source": [
    "import sys\n",
    "print(sys.version)"
   ]
  },
  {
   "cell_type": "code",
   "execution_count": 30,
   "id": "c27655f8",
   "metadata": {},
   "outputs": [
    {
     "name": "stdout",
     "output_type": "stream",
     "text": [
      "Input the radius of the circle : 2.1\n",
      "The area of the circle with radius 2.1 is: 13.854423602330987\n"
     ]
    }
   ],
   "source": [
    "from math import pi\n",
    "r = float(input (\"Input the radius of the circle : \"))\n",
    "print (\"The area of the circle with radius \" + str(r) + \" is: \" + str(pi * r**2))"
   ]
  },
  {
   "cell_type": "code",
   "execution_count": 39,
   "id": "22abc8e5",
   "metadata": {},
   "outputs": [
    {
     "name": "stdout",
     "output_type": "stream",
     "text": [
      "Input your First Name : DANIYAL!\n",
      "Input your Last Name : zAHID\n",
      "Hello zAHID DANIYAL!\n"
     ]
    }
   ],
   "source": [
    "fname = input(\"Input your First Name : \")\n",
    "lname = input(\"Input your Last Name : \")\n",
    "print (\"Hello \" + lname + \" \" + fname)\n"
   ]
  },
  {
   "cell_type": "code",
   "execution_count": 40,
   "id": "21dec224",
   "metadata": {},
   "outputs": [
    {
     "name": "stdout",
     "output_type": "stream",
     "text": [
      "enter first number : 5\n",
      "enter second number : 10\n",
      "sum of 5 and 10 is 15\n"
     ]
    }
   ],
   "source": [
    "    a=int(input(\"enter first number : \"))\n",
    "\n",
    "    b=int(input(\"enter second number : \"))\n",
    "\n",
    "    print(\"sum of\",a, \"and\",b,\"is\",a+b)\n"
   ]
  },
  {
   "cell_type": "code",
   "execution_count": null,
   "id": "f8f5caa6",
   "metadata": {},
   "outputs": [],
   "source": []
  }
 ],
 "metadata": {
  "kernelspec": {
   "display_name": "Python 3 (ipykernel)",
   "language": "python",
   "name": "python3"
  },
  "language_info": {
   "codemirror_mode": {
    "name": "ipython",
    "version": 3
   },
   "file_extension": ".py",
   "mimetype": "text/x-python",
   "name": "python",
   "nbconvert_exporter": "python",
   "pygments_lexer": "ipython3",
   "version": "3.9.7"
  }
 },
 "nbformat": 4,
 "nbformat_minor": 5
}
